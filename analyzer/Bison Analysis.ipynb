{
 "cells": [
  {
   "cell_type": "code",
   "execution_count": 2,
   "id": "3ad57360",
   "metadata": {},
   "outputs": [
    {
     "name": "stdout",
     "output_type": "stream",
     "text": [
      "Found 632 courses with SWS defined out of 1317 total courses.\n"
     ]
    }
   ],
   "source": [
    "datapath = \"../crawler/database/semester_20251\"\n",
    "\n",
    "# get a list of all json files in the directory  \n",
    "import os\n",
    "import json\n",
    "\n",
    "def get_course_objects(datapath):\n",
    "    json_files = []\n",
    "    for file in os.listdir(datapath):\n",
    "        if file.endswith(\".json\"):\n",
    "            course = {}\n",
    "            with open(os.path.join(datapath, file), 'r') as f:\n",
    "                course = json.load(f)\n",
    "                course[\"html\"] = file.replace(\".json\", \".html\")\n",
    "            json_files.append(course)\n",
    "    return json_files\n",
    "\n",
    "# get the course objects\n",
    "courses = get_course_objects(datapath)\n",
    "total_courses = len(courses)\n",
    "# filter for courses with SWS defined\n",
    "courses = [course for course in courses if \"Grunddaten zur Veranstaltung\" in course and course[\"Grunddaten zur Veranstaltung\"][\"SWS\"] != \"missing\" and \"Veranstaltungstitel\" in course]\n",
    "\n",
    "print(f\"Found {len(courses)} courses with SWS defined out of {total_courses} total courses.\")"
   ]
  },
  {
   "cell_type": "code",
   "execution_count": 3,
   "id": "fe5b74bc",
   "metadata": {},
   "outputs": [],
   "source": [
    "def print_courses(courses):\n",
    "    for course in courses:\n",
    "\n",
    "        print(f\"Course: {course['Veranstaltungstitel']}\")\n",
    "        print(f\"  Link: {course['Bisonlink'].replace('bison-connector.bauhaus', 'bison')}\")\n",
    "        print()"
   ]
  },
  {
   "cell_type": "code",
   "execution_count": 4,
   "id": "96a599cb",
   "metadata": {},
   "outputs": [
    {
     "name": "stdout",
     "output_type": "stream",
     "text": [
      "Found 0 courses without a description out of 632 total courses.\n"
     ]
    }
   ],
   "source": [
    "from pprint import pprint\n",
    "import csv\n",
    "\n",
    "\n",
    "for course in courses:\n",
    "    analysis = {\n",
    "        \"Course\": course[\"Veranstaltungstitel\"],\n",
    "        \"Link\": course[\"Bisonlink\"].replace(\"bison-connector.bauhaus\", \"bison\"),\n",
    "        \"Veranstaltungsart\": course[\"Grunddaten zur Veranstaltung\"][\"Veranstaltungsart\"],\n",
    "        \"Fakultät\": course[\"Fakultät\"],\n",
    "        \"SWS\": course[\"Grunddaten zur Veranstaltung\"][\"SWS\"],\n",
    "        \"Sprache\": \"Fehlt\",\n",
    "        \"Beschreibung vorhanden\": False,\n",
    "        \"Beschreibung\": \"fehlt\",\n",
    "        \"Leistungsnachweis\": False,\n",
    "        \"Literatur\": False,\n",
    "        \"Voraussetzungen\": False,\n",
    "        \"Zielgruppe\": False,\n",
    "    }\n",
    "    if \"Sprache\" in course[\"Grunddaten zur Veranstaltung\"]:\n",
    "        analysis[\"Sprache\"] = course[\"Grunddaten zur Veranstaltung\"][\"Sprache\"]\n",
    "    if \"Weitere Angaben zur Veranstaltung\" in course:\n",
    "        if \"Beschreibung\" in course[\"Weitere Angaben zur Veranstaltung\"]:\n",
    "            if len(course[\"Weitere Angaben zur Veranstaltung\"][\"Beschreibung\"]) > 30:\n",
    "                analysis[\"Beschreibung vorhanden\"] = True\n",
    "                analysis[\"Beschreibung\"] = course[\"Weitere Angaben zur Veranstaltung\"][\"Beschreibung\"]\n",
    "            if \"Leistungsnachweis\" in course[\"Weitere Angaben zur Veranstaltung\"]:\n",
    "                analysis[\"Leistungsnachweis\"] = True\n",
    "            if \"Literatur\" in course[\"Weitere Angaben zur Veranstaltung\"]:\n",
    "                analysis[\"Literatur\"] = True\n",
    "\n",
    "    course[\"analysis\"] = analysis\n",
    "\n",
    "\n",
    "# filter for courses without a description\n",
    "outliers = [course for course in courses if not course[\"analysis\"][\"Beschreibung\"]]\n",
    "print(f\"Found {len(outliers)} courses without a description out of {len(courses)} total courses.\")\n",
    "\n",
    "# export to csv with tab separator\n",
    "header = [\"Course\", \"Link\", \"Veranstaltungsart\", \"Fakultät\", \"SWS\", \"Sprache\", \"Beschreibung vorhanden\", \"Beschreibung\", \"Leistungsnachweis\", \"Literatur\", \"Voraussetzungen\", \"Zielgruppe\"]\n",
    "with open(\"bison_analysis.csv\", \"w\", newline=\"\") as f:\n",
    "    writer = csv.writer(f, delimiter=\"\\t\")\n",
    "    writer.writerow(header)\n",
    "    for course in courses:\n",
    "        writer.writerow([course[\"analysis\"][\"Course\"], course[\"analysis\"][\"Link\"], course[\"analysis\"][\"Veranstaltungsart\"], course[\"analysis\"][\"Fakultät\"], course[\"analysis\"][\"SWS\"], course[\"analysis\"][\"Sprache\"], course[\"analysis\"][\"Beschreibung vorhanden\"], course[\"analysis\"][\"Beschreibung\"], course[\"analysis\"][\"Leistungsnachweis\"], course[\"analysis\"][\"Literatur\"], course[\"analysis\"][\"Voraussetzungen\"], course[\"analysis\"][\"Zielgruppe\"]])"
   ]
  },
  {
   "cell_type": "code",
   "execution_count": 10,
   "id": "8df69bf6",
   "metadata": {},
   "outputs": [
    {
     "name": "stdout",
     "output_type": "stream",
     "text": [
      "---\n",
      "2\n",
      "\n",
      "Beleg: Softwarebasierte Simulation von Verkehr und Emissionen•    Einen vorfahrtsgeregelten Knotenpunkt von Grund auf modellieren•    Einen vorfahrtsgeregelten Knotenpunkt simulieren und bewerten•    Einen signalisierten Knotenpunkt modellieren, simulieren und bewerten•    Ein bestehendes Modell anpassen und simulieren•    Ein bestehendes Modell kalibrieren und validieren•    Eine Verkehrsmanagementmaßnahme bewerten\n",
      "---\n",
      "3\n",
      "\n",
      "Ziel des Seminars ist die Auseinandersetzung mit Genese und Trends von Diskursen der Stadt- und Regionalplanung sowie mit dem Berufsfeld der Urbanistik. Vor dem Hintergrund aktueller fachlicher und wissenschaftlicher Diskurse bietet es im Sinne einer Berufsfelderkundung die Möglichkeit, sich kurz vor Abschluss des Studiums mit den eigenen beruflichen Wünschen und inhaltlichen Schwerpunkten auseinanderzusetzen und unterschiedliche Optionen urbanistischen Wirkens kennenzulernen. Neben der Aufbereitung fachspezifischer Themen reflektieren die Teilnehmer*innen zusammen mit Absolvent*innen und Planer*innen unterschiedliche Wege des Berufseinstiegs sowie vielfältige Herausforderungen und Handlungsfelder der Berufspraxis.\n",
      "---\n",
      "4\n",
      "\n",
      "KICAD is a popular open source software for designing printed circuit boards. This rather pragmatic small workshop series will introduce the basics in KiCAD, so you can learn how to design your own custom electronics devices.We will build (or improve) our KICAD skills for developing new or existing media art/design projects such as interactive installations, kinetic sculptures, DIY instruments, etc. If you're a beginner you just can follow along. If you have an existing project that you would like to extend with custom boards, you're more than welcome to bring that to our workshops. Suitable for beginners with little or no prior PCB design experience. While basic electronics knowledge is not required, it is of course helpful to follow this seminar.The dates for the workshop are, each day from 10:00 - 16:00:- THU 2025-04-10 + FRI 2025-04-11- THU 2025-04-24 + FRI 2025-04-25- FRI 2025-05-09If you would like to join the workshops, please write me a short e-mail with your name, study background and briefly describe your interest in the class (max 250 words).P.S. {Note that this class is connected to my other seminar *The Printed Circuit Board as an Artist Publication*. It's not mandatory that you join both, but if you have little or no experience with electronics and designing PCBs, then I'd recommend you to join this workshop series in addition to the class *The Printed Circuit Board as an Artist Publication*.}Certificate of achievement- Presence, active attendance and participation during the workshops- Participation in the end presentation\n",
      "---\n",
      "5\n",
      "\n",
      "Seit der Schließung des Berliner Flughafens Tempelhof im Jahr 2008 steht das Tempelhofer Feld im Zentrum kontroverser Debatten über die Nutzung eines der größten urbanen Freiräume der Welt. Das weitläufige Gelände bewegt sich zwischen Stadtpark, „Void” und Landschaft, teils intakt und erschlossen, teils überwuchert, fragmentiert und ruinös. Entlang seiner Ränder verbergen sich verstreute Bauwerke – ehemalige Industrie- und Funktionsbauten, Follies, skulpturale Elemente und Relikte der Flughafengeschichte –, die bislang kaum Beachtung fanden. Eine systematische Bestandsaufnahme dieser Strukturen sowie Visionen oder Strategien für ihre zukünftige Nutzung fehlen bisher.In dem Seminar (+ Exkursion) „Felder Höfe Tempel – Leistungsphase 0” soll eine experimentelle Bestandsaufnahme erarbeitet werden, die sowohl einen kritischen Beitrag zur stadtpolitischen Debatte, als auch eine Grundlage für zukünftige Entwurfs- und Design-Build-Projekte der Juniorprofessur KEE bilden soll.Vor Ort und In Kooperation mit der Technischen Universität Berlin und Grün Berlin sowie im Austausch mit lokalen Nutzer:innen, Expert*innen, Initiativen und Aktivist:innen ( Architects 4 THF ) erschließen wir das Tempelhofer Feld und untersuchen seine baulichen Strukturen. Wir möchten die Wechselwirkungen zwischen Architektur, Landschaft, Biodiversität und Bodenökologie analysieren und gleichzeitig künstlerische und denkmalpflegerische Perspektiven integrieren.Das Seminar verfolgt einen interdisziplinären Ansatz, der das Tempelhofer Feld als relationalen Raum versteht, in dem architektonische, soziale und ökologische Aspekte eng miteinander verwoben sind. Dabei werden auch etablierte Dichotomien – etwa zwischen Freiraum und Bebauung, Natur und Kultur oder Mensch und Tier – kritisch hinterfragt.Die gewonnenen Erkenntnisse fließen in ein Dossier aus Gesprächsnotationen, Fotografien und Zeichnungen ein, das sowohl technische architektonische Darstellungen (Details, Grundrisse, Schnitte) als auch relationale Visualisierungen umfasst, die die Bauwerke in ihrem Kontext sichtbar machen.\n",
      "---\n",
      "6\n",
      "\n",
      "Im SoSe 2025 werden wir im Rahmen eines DesignBuild Projektes den ehemaligen Ochsenstall der Domäne Dornburg in einen Ort der Gemeinschaft transformieren. Gemeinsam mit dem ortsansässigen Architekturbüro exnovum und der LEG Thüringen wollen wir damit eine schrittweise Entwicklung der Domäne anstoßen, in der das Projekt einen ersten Baustein bildet. Starten möchten wir mit einem Nutzungs- und Umbaukonzept für den ehemaligen Ochsenstall und der baulichen Umsetzung von ersten Ein- und Umbauten im Erdgeschoss. Wir werden uns mit der Fassade und der Beziehung zwischen Innen und Außen, mit Fragen notwendiger Infrastruktur und der Aktivierung bisher ungenutzter räumlicher Potenziale auseinandersetzen.Unser Fokus wird auf einer nachhaltigen Tektonik – einer „Poetik der nachhaltigen Konstruktion” - liegen. Hierfür werden wir uns mit ortsspezifischen Konstruktionsmethoden des reversiblen Fügens (bspw. Fachwerkbau) ebenso wie mit universalen anpassbaren Bausystemen (bspw. Gewächshaus) auseinandersetzen. Wir wollen alltägliche Praktiken des schnellen, einfachen, pragmatischen Bauens und Ausbesserns gleichermaßen wertschätzen wie tradierte Handwerksmethoden. Beides verstehen wir sowohl als technische Prozesse als auch als kulturelle Praktiken, die maßgeblich zum architektonischen Ausdruck beitragen. In 1:1 Experimenten werden wir beides baulich erproben mit vor Ort verfügbarem Material – nicht primär lokal hergestelltes, sondern lokal abgebrochenes oder ausrangiertes. Dabei werden das Aufsuchen und Beschaffen weiterer Baumaterialien ebenso essentieller Teil des Entwurfsprozesses sein.Mit dem Projekt bewegen wir uns im Spannungsfeld zwischen Universität und der Realität des Bauens, zwischen Handwerk und DiY, zwischen lokal und universal, zwischen Wissen und Intuition, zwischen Architektur und Möbel, zwischen temporär und permanent, zwischen Pragmatismus und Poetik, zwischen Laienhaftigkeit und Expertentum, und nicht zuletzt zwischen ästhetischen Konventionen und einer Ästhetik des Wiederverwendens.Als Annäherungen an Ort und Ressourcen dienen uns Vor-Ort Erkundungen, Expert*innen Inputs, Gespräche mit potenziell Nutzenden und Ad hoc- Konstruktionsworkshops. In der Projektarbeit verstehen wir uns als Team. Visionen und Ziele werden gemeinsam entwickelt, Ergebnisse und Erkenntnisse werden geteilt und bilden die Grundlage für den weiteren Prozess. Damit wollen wir eine Offenheit für das Prozesshafte fördern.Auf unserer Workshop- Exkursion nach Leipzig und Dornburg besuchen wir Beispiele für ”Transformationen von Produktionsstätten”. Zwischen historischen Bauten und experimentellen Umnutzungen sammeln wir Momente einer nachhaltigen Tektonik als Inspiration für den eigenen Entwurf.\n",
      "---\n",
      "7\n",
      "\n",
      "Im November 2025 feiern wir den 250. Geburtstag von Clemens Wenzeslaus Coudray. Wir nehmen dieses Jubiläum zum Anlass, sein Werk erneut zu würdigen.Coudray wurde 1775 in Ehrenbreitstein geboren, 1845 ist er in Weimar gestorben, nachdem er rund 30 Jahre in der Stadt tätig gewesen war. Zahlreiche seiner Bauten prägen Weimar bis heute, auch wenn sie sich nicht vordrängen. Genannt seien nur die Bürgerschule (heute Musikschule Johann Nepomuk Hummel) oder die Fürstengruft. Hinzukommen aber zahlreiche weitere öffentliche und private Bauten, aber auch Fixpunkte wie der (später so genannte) Goethebrunnen. Und manche seiner Werke bleiben geradezu unsichtbar — wie die Erweiterung der Anna Amalia Bibliothek.Die Beschäftigung mit Coudray lohnt aber nicht nur, weil er »Goethes Baumeister« war (so der Untertitel einer Coudray-Monographie von Walther Schneemann). Es gibt noch mehr zu entdecken — und zwar die Idealentwürfe, die er als junger Mann in Paris anfertigt, als er bei Jean-Nicolas-Louis Durand studiert und für ihn arbeitet. Es ist insbesondere diese Verbindung, die Coudray größere Bedeutung verleiht und ihn zu einer auch im weiteren europäischen Kontext wichtigen Figur macht.Im Seminar soll die Beschäftigung mit diesen Entwürfen daher im Vordergrund stehen. Wir wollen sie genauer verstehen lernen und herausfinden, wie sie gedacht waren, aber auch wie man sie benutzt hätte und wie sie gewirkt hätten. Dazu sollen die Entwürfe nachgezeichnet und nachgebaut werden, um sie dann in einer Ausstellung zu Coudrays Geburtstag zeigen zu können.\n",
      "---\n",
      "8\n",
      "\n",
      "This course gives an overview of basic techniques of working with language data. We will introduce basic linguistic notions, issues involved in building and working with language corpora, current standard techniques for preparing text for analysis, and methods of computational processing of a subset of language phenomena. By the end of the course students will(1) have an understanding of key word-level, syntactic, semantic, and discourse phenomena,(2) be aware of issues involved in building text corpora,(3) be familiar with typical language processing tasks addressed in the NLP community and methods of addressing them, and(4) will be able to perform tasks that are part of a standard NLP pipeline.\n",
      "---\n",
      "9\n",
      "\n",
      "Die Ringvorlesung des DFG-Graduiertenkollegs „Gewohnter Wandel. Gesellschaftliche Transformation und räumliche Materialisierung des Wohnens eröffnet Einblicke in die aktuelle internationale Wohnungsforschung. Zum Auftakt des Kollegs stehen zwei Kernfragen im Zentrum: Warum und auf welche Weise können wir das Wohnen erforschen? Welchen Zusammenhang sehen wir in zwischen gesellschaftlicher Transformation und räumlicher Materialisierung des Wohnens? Wissenschaftler/innen aus dem In- und Ausland werden aus unterschiedlichen disziplinären Perspektiven diese Fragen diskutieren.Die Ringvorlesung ist für Studierende aller Studiengänge und die allgemeine Öffentlichkeit zugänglich. Für die Mitglieder des Graduiertenkollegs findet ein internes begleitendes Seminar mit den Vortragenden statt. Die Ringvorlesung findet abwechselnd in Weimar und an der Goethe-Universität Frankfurt. Die Vorlesungen aus Frankfurt können über online angehört werden.\n"
     ]
    }
   ],
   "source": [
    "inliers = [course for course in courses if course[\"analysis\"][\"Beschreibung\"]]\n",
    "\n",
    "for i in range(2,10):\n",
    "    print(\"---\")\n",
    "    print(str(i) + \"\\n\")\n",
    "    print(inliers[i][\"Weitere Angaben zur Veranstaltung\"][\"Beschreibung\"])"
   ]
  },
  {
   "cell_type": "code",
   "execution_count": null,
   "id": "36e0cd69",
   "metadata": {},
   "outputs": [],
   "source": []
  }
 ],
 "metadata": {
  "kernelspec": {
   "display_name": "main",
   "language": "python",
   "name": "python3"
  },
  "language_info": {
   "codemirror_mode": {
    "name": "ipython",
    "version": 3
   },
   "file_extension": ".py",
   "mimetype": "text/x-python",
   "name": "python",
   "nbconvert_exporter": "python",
   "pygments_lexer": "ipython3",
   "version": "3.13.2"
  }
 },
 "nbformat": 4,
 "nbformat_minor": 5
}
